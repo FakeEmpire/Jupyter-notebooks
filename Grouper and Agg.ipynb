{
 "cells": [
  {
   "cell_type": "markdown",
   "metadata": {},
   "source": [
    "# Grouping Time Series Data"
   ]
  },
  {
   "cell_type": "code",
   "execution_count": 4,
   "metadata": {},
   "outputs": [
    {
     "data": {
      "application/javascript": [
       "IPython.notebook.set_autosave_interval(30000)"
      ]
     },
     "metadata": {},
     "output_type": "display_data"
    },
    {
     "name": "stdout",
     "output_type": "stream",
     "text": [
      "Autosaving every 30 seconds\n"
     ]
    }
   ],
   "source": [
    "% autosave 30\n",
    "import pandas as pd\n",
    "import collections"
   ]
  },
  {
   "cell_type": "code",
   "execution_count": 5,
   "metadata": {},
   "outputs": [
    {
     "data": {
      "text/html": [
       "<div>\n",
       "<style>\n",
       "    .dataframe thead tr:only-child th {\n",
       "        text-align: right;\n",
       "    }\n",
       "\n",
       "    .dataframe thead th {\n",
       "        text-align: left;\n",
       "    }\n",
       "\n",
       "    .dataframe tbody tr th {\n",
       "        vertical-align: top;\n",
       "    }\n",
       "</style>\n",
       "<table border=\"1\" class=\"dataframe\">\n",
       "  <thead>\n",
       "    <tr style=\"text-align: right;\">\n",
       "      <th></th>\n",
       "      <th>account number</th>\n",
       "      <th>name</th>\n",
       "      <th>sku</th>\n",
       "      <th>quantity</th>\n",
       "      <th>unit price</th>\n",
       "      <th>ext price</th>\n",
       "      <th>date</th>\n",
       "    </tr>\n",
       "  </thead>\n",
       "  <tbody>\n",
       "    <tr>\n",
       "      <th>0</th>\n",
       "      <td>740150</td>\n",
       "      <td>Barton LLC</td>\n",
       "      <td>B1-20000</td>\n",
       "      <td>39</td>\n",
       "      <td>86.69</td>\n",
       "      <td>3380.91</td>\n",
       "      <td>2014-01-01 07:21:51</td>\n",
       "    </tr>\n",
       "    <tr>\n",
       "      <th>1</th>\n",
       "      <td>714466</td>\n",
       "      <td>Trantow-Barrows</td>\n",
       "      <td>S2-77896</td>\n",
       "      <td>-1</td>\n",
       "      <td>63.16</td>\n",
       "      <td>-63.16</td>\n",
       "      <td>2014-01-01 10:00:47</td>\n",
       "    </tr>\n",
       "    <tr>\n",
       "      <th>2</th>\n",
       "      <td>218895</td>\n",
       "      <td>Kulas Inc</td>\n",
       "      <td>B1-69924</td>\n",
       "      <td>23</td>\n",
       "      <td>90.70</td>\n",
       "      <td>2086.10</td>\n",
       "      <td>2014-01-01 13:24:58</td>\n",
       "    </tr>\n",
       "    <tr>\n",
       "      <th>3</th>\n",
       "      <td>307599</td>\n",
       "      <td>Kassulke, Ondricka and Metz</td>\n",
       "      <td>S1-65481</td>\n",
       "      <td>41</td>\n",
       "      <td>21.05</td>\n",
       "      <td>863.05</td>\n",
       "      <td>2014-01-01 15:05:22</td>\n",
       "    </tr>\n",
       "    <tr>\n",
       "      <th>4</th>\n",
       "      <td>412290</td>\n",
       "      <td>Jerde-Hilpert</td>\n",
       "      <td>S2-34077</td>\n",
       "      <td>6</td>\n",
       "      <td>83.21</td>\n",
       "      <td>499.26</td>\n",
       "      <td>2014-01-01 23:26:55</td>\n",
       "    </tr>\n",
       "  </tbody>\n",
       "</table>\n",
       "</div>"
      ],
      "text/plain": [
       "   account number                         name       sku  quantity  \\\n",
       "0          740150                   Barton LLC  B1-20000        39   \n",
       "1          714466              Trantow-Barrows  S2-77896        -1   \n",
       "2          218895                    Kulas Inc  B1-69924        23   \n",
       "3          307599  Kassulke, Ondricka and Metz  S1-65481        41   \n",
       "4          412290                Jerde-Hilpert  S2-34077         6   \n",
       "\n",
       "   unit price  ext price                date  \n",
       "0       86.69    3380.91 2014-01-01 07:21:51  \n",
       "1       63.16     -63.16 2014-01-01 10:00:47  \n",
       "2       90.70    2086.10 2014-01-01 13:24:58  \n",
       "3       21.05     863.05 2014-01-01 15:05:22  \n",
       "4       83.21     499.26 2014-01-01 23:26:55  "
      ]
     },
     "execution_count": 5,
     "metadata": {},
     "output_type": "execute_result"
    }
   ],
   "source": [
    "# read in the data and then convert the date to actual date format\n",
    "df = pd.read_excel(\"https://github.com/chris1610/pbpython/blob/master/data/sample-salesv3.xlsx?raw=True\")\n",
    "df[\"date\"] = pd.to_datetime(df['date'])\n",
    "df.head()"
   ]
  },
  {
   "cell_type": "markdown",
   "metadata": {},
   "source": [
    "You can use the resample function to aggregate by dates if date is the index"
   ]
  },
  {
   "cell_type": "code",
   "execution_count": 6,
   "metadata": {},
   "outputs": [
    {
     "data": {
      "text/plain": [
       "date\n",
       "2014-01-31    185361.66\n",
       "2014-02-28    146211.62\n",
       "2014-03-31    203921.38\n",
       "2014-04-30    174574.11\n",
       "2014-05-31    165418.55\n",
       "2014-06-30    174089.33\n",
       "2014-07-31    191662.11\n",
       "2014-08-31    153778.59\n",
       "2014-09-30    168443.17\n",
       "2014-10-31    171495.32\n",
       "2014-11-30    119961.22\n",
       "2014-12-31    163867.26\n",
       "Freq: M, Name: ext price, dtype: float64"
      ]
     },
     "execution_count": 6,
     "metadata": {},
     "output_type": "execute_result"
    }
   ],
   "source": [
    "# M is for month, W for week, A for annual\n",
    "df.set_index('date').resample('M')[\"ext price\"].sum()"
   ]
  },
  {
   "cell_type": "markdown",
   "metadata": {},
   "source": [
    "You can use this in conjunction with groupby"
   ]
  },
  {
   "cell_type": "code",
   "execution_count": 8,
   "metadata": {},
   "outputs": [
    {
     "data": {
      "text/plain": [
       "name                             date      \n",
       "Barton LLC                       2014-01-31     6177.57\n",
       "                                 2014-02-28    12218.03\n",
       "                                 2014-03-31     3513.53\n",
       "                                 2014-04-30    11474.20\n",
       "                                 2014-05-31    10220.17\n",
       "                                 2014-06-30    10463.73\n",
       "                                 2014-07-31     6750.48\n",
       "                                 2014-08-31    17541.46\n",
       "                                 2014-09-30    14053.61\n",
       "                                 2014-10-31     9351.68\n",
       "                                 2014-11-30     4901.14\n",
       "                                 2014-12-31     2772.90\n",
       "Cronin, Oberbrunner and Spencer  2014-01-31     1141.75\n",
       "                                 2014-02-28    13976.26\n",
       "                                 2014-03-31    11691.62\n",
       "                                 2014-04-30     3685.44\n",
       "                                 2014-05-31     6760.11\n",
       "                                 2014-06-30     5379.67\n",
       "                                 2014-07-31     6020.30\n",
       "                                 2014-08-31     5399.58\n",
       "                                 2014-09-30    12693.74\n",
       "                                 2014-10-31     9324.37\n",
       "                                 2014-11-30     6021.11\n",
       "                                 2014-12-31     7640.60\n",
       "Frami, Hills and Schmidt         2014-01-31     5112.34\n",
       "                                 2014-02-28     4124.53\n",
       "                                 2014-03-31    10397.44\n",
       "                                 2014-04-30     5036.18\n",
       "                                 2014-05-31     4097.87\n",
       "                                 2014-06-30    13192.19\n",
       "                                                 ...   \n",
       "Trantow-Barrows                  2014-07-31    11987.34\n",
       "                                 2014-08-31    17251.65\n",
       "                                 2014-09-30     6992.48\n",
       "                                 2014-10-31    10064.27\n",
       "                                 2014-11-30     6550.10\n",
       "                                 2014-12-31    10124.23\n",
       "White-Trantow                    2014-01-31    13703.77\n",
       "                                 2014-02-28    11783.98\n",
       "                                 2014-03-31     8583.05\n",
       "                                 2014-04-30    19009.20\n",
       "                                 2014-05-31     5877.29\n",
       "                                 2014-06-30    14791.32\n",
       "                                 2014-07-31    10242.62\n",
       "                                 2014-08-31    12287.21\n",
       "                                 2014-09-30     5315.16\n",
       "                                 2014-10-31    19896.85\n",
       "                                 2014-11-30     9544.61\n",
       "                                 2014-12-31     4806.93\n",
       "Will LLC                         2014-01-31    20953.87\n",
       "                                 2014-02-28    13613.06\n",
       "                                 2014-03-31     9838.93\n",
       "                                 2014-04-30     6094.94\n",
       "                                 2014-05-31    11856.95\n",
       "                                 2014-06-30     2419.52\n",
       "                                 2014-07-31    11017.54\n",
       "                                 2014-08-31     1439.82\n",
       "                                 2014-09-30     4345.99\n",
       "                                 2014-10-31     7085.33\n",
       "                                 2014-11-30     3210.44\n",
       "                                 2014-12-31    12561.21\n",
       "Name: ext price, Length: 240, dtype: float64"
      ]
     },
     "execution_count": 8,
     "metadata": {},
     "output_type": "execute_result"
    }
   ],
   "source": [
    "df.set_index('date').groupby('name')[\"ext price\"].resample(\"M\").sum()"
   ]
  },
  {
   "cell_type": "markdown",
   "metadata": {},
   "source": [
    "It is easier to use Grouper"
   ]
  },
  {
   "cell_type": "code",
   "execution_count": 9,
   "metadata": {},
   "outputs": [
    {
     "data": {
      "text/plain": [
       "name                             date      \n",
       "Barton LLC                       2014-01-31     6177.57\n",
       "                                 2014-02-28    12218.03\n",
       "                                 2014-03-31     3513.53\n",
       "                                 2014-04-30    11474.20\n",
       "                                 2014-05-31    10220.17\n",
       "                                 2014-06-30    10463.73\n",
       "                                 2014-07-31     6750.48\n",
       "                                 2014-08-31    17541.46\n",
       "                                 2014-09-30    14053.61\n",
       "                                 2014-10-31     9351.68\n",
       "                                 2014-11-30     4901.14\n",
       "                                 2014-12-31     2772.90\n",
       "Cronin, Oberbrunner and Spencer  2014-01-31     1141.75\n",
       "                                 2014-02-28    13976.26\n",
       "                                 2014-03-31    11691.62\n",
       "                                 2014-04-30     3685.44\n",
       "                                 2014-05-31     6760.11\n",
       "                                 2014-06-30     5379.67\n",
       "                                 2014-07-31     6020.30\n",
       "                                 2014-08-31     5399.58\n",
       "Name: ext price, dtype: float64"
      ]
     },
     "execution_count": 9,
     "metadata": {},
     "output_type": "execute_result"
    }
   ],
   "source": [
    "df.groupby(['name', pd.Grouper(key='date', freq='M')])['ext price'].sum().head(20)"
   ]
  },
  {
   "cell_type": "markdown",
   "metadata": {},
   "source": [
    "The nice benefit of this capability is that if you are interested in looking at data summarized in a different time frame, just change the freq parameter to one of the valid offset aliases. For instance, an annual summary using December as the last month would look like this:"
   ]
  },
  {
   "cell_type": "code",
   "execution_count": 10,
   "metadata": {},
   "outputs": [
    {
     "data": {
      "text/plain": [
       "name                             date      \n",
       "Barton LLC                       2014-12-31    109438.50\n",
       "Cronin, Oberbrunner and Spencer  2014-12-31     89734.55\n",
       "Frami, Hills and Schmidt         2014-12-31    103569.59\n",
       "Fritsch, Russel and Anderson     2014-12-31    112214.71\n",
       "Halvorson, Crona and Champlin    2014-12-31     70004.36\n",
       "Herman LLC                       2014-12-31     82865.00\n",
       "Jerde-Hilpert                    2014-12-31    112591.43\n",
       "Kassulke, Ondricka and Metz      2014-12-31     86451.07\n",
       "Keeling LLC                      2014-12-31    100934.30\n",
       "Kiehn-Spinka                     2014-12-31     99608.77\n",
       "Koepp Ltd                        2014-12-31    103660.54\n",
       "Kuhn-Gusikowski                  2014-12-31     91094.28\n",
       "Kulas Inc                        2014-12-31    137351.96\n",
       "Pollich LLC                      2014-12-31     87347.18\n",
       "Purdy-Kunde                      2014-12-31     77898.21\n",
       "Sanford and Sons                 2014-12-31     98822.98\n",
       "Stokes LLC                       2014-12-31     91535.92\n",
       "Trantow-Barrows                  2014-12-31    123381.38\n",
       "White-Trantow                    2014-12-31    135841.99\n",
       "Will LLC                         2014-12-31    104437.60\n",
       "Name: ext price, dtype: float64"
      ]
     },
     "execution_count": 10,
     "metadata": {},
     "output_type": "execute_result"
    }
   ],
   "source": [
    "df.groupby(['name', pd.Grouper(key='date', freq='A-DEC')])['ext price'].sum()"
   ]
  },
  {
   "cell_type": "code",
   "execution_count": 11,
   "metadata": {},
   "outputs": [
    {
     "data": {
      "text/plain": [
       "name        date      \n",
       "Barton LLC  2014-01-06    3380.91\n",
       "            2014-01-20     224.86\n",
       "            2014-01-27    2423.96\n",
       "            2014-02-03     147.84\n",
       "            2014-02-10     217.14\n",
       "            2014-02-17    8442.09\n",
       "            2014-03-03    3558.80\n",
       "            2014-03-10    1763.49\n",
       "            2014-03-17    1750.04\n",
       "            2014-04-07    1561.14\n",
       "            2014-04-14    4702.61\n",
       "            2014-04-21     836.63\n",
       "            2014-04-28    2540.79\n",
       "            2014-05-05    4109.99\n",
       "            2014-05-12    1671.83\n",
       "            2014-05-26    3251.43\n",
       "            2014-06-02    6112.87\n",
       "            2014-06-09     677.35\n",
       "            2014-06-16    2798.00\n",
       "            2014-06-23    3895.46\n",
       "            2014-07-14    1033.26\n",
       "            2014-07-21    3989.22\n",
       "            2014-08-04    7384.80\n",
       "            2014-08-11      84.18\n",
       "            2014-08-18    3857.10\n",
       "            2014-08-25    2925.94\n",
       "            2014-09-01    5017.44\n",
       "            2014-09-08    1319.28\n",
       "            2014-09-15    2608.50\n",
       "            2014-09-22    7371.67\n",
       "                           ...   \n",
       "Will LLC    2014-03-31    2595.78\n",
       "            2014-04-07     991.99\n",
       "            2014-04-14    2069.20\n",
       "            2014-04-21    3007.03\n",
       "            2014-04-28      26.72\n",
       "            2014-05-12    2220.74\n",
       "            2014-05-19    3250.88\n",
       "            2014-06-02    6385.33\n",
       "            2014-06-16    1440.96\n",
       "            2014-06-23      56.15\n",
       "            2014-06-30     922.41\n",
       "            2014-07-07    2985.85\n",
       "            2014-07-14    3073.44\n",
       "            2014-07-21    3951.27\n",
       "            2014-07-28    1006.98\n",
       "            2014-08-11     773.90\n",
       "            2014-08-18     254.04\n",
       "            2014-08-25     411.88\n",
       "            2014-09-01    2020.57\n",
       "            2014-09-29    2325.42\n",
       "            2014-10-06     371.52\n",
       "            2014-10-20      99.47\n",
       "            2014-10-27    1616.14\n",
       "            2014-11-03    5768.60\n",
       "            2014-11-10    1734.08\n",
       "            2014-12-01     705.96\n",
       "            2014-12-08    4301.00\n",
       "            2014-12-15    3502.09\n",
       "            2014-12-22    2993.40\n",
       "            2015-01-05    1764.72\n",
       "Name: ext price, Length: 805, dtype: float64"
      ]
     },
     "execution_count": 11,
     "metadata": {},
     "output_type": "execute_result"
    }
   ],
   "source": [
    "df.groupby(['name', pd.Grouper(key='date', freq='W-MON')])['ext price'].sum()"
   ]
  },
  {
   "cell_type": "code",
   "execution_count": 12,
   "metadata": {},
   "outputs": [
    {
     "data": {
      "text/plain": [
       "name                             sku       date      \n",
       "Barton LLC                       B1-04202  2014-12-31     2433.20\n",
       "                                 B1-05914  2014-12-31      324.72\n",
       "                                 B1-20000  2014-12-31     7212.11\n",
       "                                 B1-33087  2014-12-31     4159.97\n",
       "                                 B1-33364  2014-12-31     4369.19\n",
       "                                 B1-38851  2014-12-31     6627.93\n",
       "                                 B1-50809  2014-12-31     5087.44\n",
       "                                 B1-53102  2014-12-31      431.27\n",
       "                                 B1-53636  2014-12-31     3737.59\n",
       "                                 B1-65551  2014-12-31     4703.54\n",
       "                                 B1-69924  2014-12-31     1634.29\n",
       "                                 B1-86481  2014-12-31     1457.80\n",
       "                                 S1-06532  2014-12-31     8346.20\n",
       "                                 S1-27722  2014-12-31     5840.43\n",
       "                                 S1-30248  2014-12-31      887.97\n",
       "                                 S1-47412  2014-12-31     5176.74\n",
       "                                 S1-50961  2014-12-31     1883.31\n",
       "                                 S1-65481  2014-12-31     3352.62\n",
       "                                 S1-82801  2014-12-31     5453.39\n",
       "                                 S1-93683  2014-12-31     1715.28\n",
       "                                 S2-10342  2014-12-31    12337.83\n",
       "                                 S2-11481  2014-12-31      728.50\n",
       "                                 S2-16558  2014-12-31      623.07\n",
       "                                 S2-34077  2014-12-31     5726.16\n",
       "                                 S2-77896  2014-12-31     6156.02\n",
       "                                 S2-78676  2014-12-31     2616.60\n",
       "                                 S2-82423  2014-12-31     3735.43\n",
       "                                 S2-83881  2014-12-31     2679.90\n",
       "Cronin, Oberbrunner and Spencer  B1-04202  2014-12-31     5054.84\n",
       "                                 B1-05914  2014-12-31     4003.64\n",
       "                                                           ...   \n",
       "White-Trantow                    S2-82423  2014-12-31     5863.69\n",
       "                                 S2-83881  2014-12-31     6506.07\n",
       "Will LLC                         B1-04202  2014-12-31      464.33\n",
       "                                 B1-05914  2014-12-31     5935.53\n",
       "                                 B1-20000  2014-12-31     4113.19\n",
       "                                 B1-33087  2014-12-31     3711.06\n",
       "                                 B1-33364  2014-12-31    11599.40\n",
       "                                 B1-38851  2014-12-31     1475.09\n",
       "                                 B1-53102  2014-12-31     6995.58\n",
       "                                 B1-53636  2014-12-31      532.80\n",
       "                                 B1-65551  2014-12-31     3039.01\n",
       "                                 B1-69924  2014-12-31    10021.68\n",
       "                                 B1-86481  2014-12-31     1770.34\n",
       "                                 S1-06532  2014-12-31     3314.72\n",
       "                                 S1-27722  2014-12-31     4493.11\n",
       "                                 S1-30248  2014-12-31      975.52\n",
       "                                 S1-47412  2014-12-31     1642.68\n",
       "                                 S1-50961  2014-12-31     3513.62\n",
       "                                 S1-65481  2014-12-31      593.46\n",
       "                                 S1-82801  2014-12-31     2034.92\n",
       "                                 S1-93683  2014-12-31     9559.57\n",
       "                                 S2-00301  2014-12-31     2117.33\n",
       "                                 S2-10342  2014-12-31     4918.55\n",
       "                                 S2-11481  2014-12-31     4324.79\n",
       "                                 S2-16558  2014-12-31      413.52\n",
       "                                 S2-23246  2014-12-31     1893.25\n",
       "                                 S2-34077  2014-12-31      991.99\n",
       "                                 S2-77896  2014-12-31     5321.87\n",
       "                                 S2-78676  2014-12-31     5016.76\n",
       "                                 S2-83881  2014-12-31     3653.93\n",
       "Name: ext price, Length: 544, dtype: float64"
      ]
     },
     "execution_count": 12,
     "metadata": {},
     "output_type": "execute_result"
    }
   ],
   "source": [
    "df.groupby(['name', 'sku', pd.Grouper(key='date', freq='A-DEC')])['ext price'].sum()"
   ]
  },
  {
   "cell_type": "code",
   "execution_count": null,
   "metadata": {
    "collapsed": true
   },
   "outputs": [],
   "source": []
  }
 ],
 "metadata": {
  "kernelspec": {
   "display_name": "Python 3",
   "language": "python",
   "name": "python3"
  },
  "language_info": {
   "codemirror_mode": {
    "name": "ipython",
    "version": 3
   },
   "file_extension": ".py",
   "mimetype": "text/x-python",
   "name": "python",
   "nbconvert_exporter": "python",
   "pygments_lexer": "ipython3",
   "version": "3.6.1"
  }
 },
 "nbformat": 4,
 "nbformat_minor": 2
}
