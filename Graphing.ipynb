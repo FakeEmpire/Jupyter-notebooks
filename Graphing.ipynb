{
 "cells": [
  {
   "cell_type": "markdown",
   "metadata": {},
   "source": [
    "# Graphing"
   ]
  },
  {
   "cell_type": "markdown",
   "metadata": {},
   "source": [
    "Read in data from url"
   ]
  },
  {
   "cell_type": "code",
   "execution_count": 13,
   "metadata": {},
   "outputs": [
    {
     "data": {
      "application/javascript": [
       "IPython.notebook.set_autosave_interval(30000)"
      ]
     },
     "metadata": {},
     "output_type": "display_data"
    },
    {
     "name": "stdout",
     "output_type": "stream",
     "text": [
      "Autosaving every 30 seconds\n"
     ]
    }
   ],
   "source": [
    "%autosave 30\n",
    "import pandas as pd\n",
    "import matplotlib.pyplot as plt"
   ]
  },
  {
   "cell_type": "code",
   "execution_count": 15,
   "metadata": {},
   "outputs": [
    {
     "data": {
      "text/html": [
       "<div>\n",
       "<style>\n",
       "    .dataframe thead tr:only-child th {\n",
       "        text-align: right;\n",
       "    }\n",
       "\n",
       "    .dataframe thead th {\n",
       "        text-align: left;\n",
       "    }\n",
       "\n",
       "    .dataframe tbody tr th {\n",
       "        vertical-align: top;\n",
       "    }\n",
       "</style>\n",
       "<table border=\"1\" class=\"dataframe\">\n",
       "  <thead>\n",
       "    <tr style=\"text-align: right;\">\n",
       "      <th></th>\n",
       "      <th>category</th>\n",
       "      <th>detail</th>\n",
       "      <th>amount</th>\n",
       "    </tr>\n",
       "  </thead>\n",
       "  <tbody>\n",
       "    <tr>\n",
       "      <th>46</th>\n",
       "      <td>ADMINISTRATION</td>\n",
       "      <td>Capitol Renovation and Restoration Continued</td>\n",
       "      <td>126300000</td>\n",
       "    </tr>\n",
       "    <tr>\n",
       "      <th>1</th>\n",
       "      <td>UNIVERSITY OF MINNESOTA</td>\n",
       "      <td>Minneapolis; Tate Laboratory Renovation</td>\n",
       "      <td>56700000</td>\n",
       "    </tr>\n",
       "    <tr>\n",
       "      <th>78</th>\n",
       "      <td>HUMAN SERVICES</td>\n",
       "      <td>Minnesota Security Hospital - St. Peter</td>\n",
       "      <td>56317000</td>\n",
       "    </tr>\n",
       "    <tr>\n",
       "      <th>0</th>\n",
       "      <td>UNIVERSITY OF MINNESOTA</td>\n",
       "      <td>Higher Education Asset Preservation (HEAPR) 1</td>\n",
       "      <td>42500000</td>\n",
       "    </tr>\n",
       "    <tr>\n",
       "      <th>5</th>\n",
       "      <td>MINNESOTA STATE COLLEGES AND UNIVERSITIES</td>\n",
       "      <td>Higher Education Asset Preservation (HEAPR) 2</td>\n",
       "      <td>42500000</td>\n",
       "    </tr>\n",
       "  </tbody>\n",
       "</table>\n",
       "</div>"
      ],
      "text/plain": [
       "                                     category  \\\n",
       "46                             ADMINISTRATION   \n",
       "1                     UNIVERSITY OF MINNESOTA   \n",
       "78                             HUMAN SERVICES   \n",
       "0                     UNIVERSITY OF MINNESOTA   \n",
       "5   MINNESOTA STATE COLLEGES AND UNIVERSITIES   \n",
       "\n",
       "                                           detail     amount  \n",
       "46   Capitol Renovation and Restoration Continued  126300000  \n",
       "1         Minneapolis; Tate Laboratory Renovation   56700000  \n",
       "78        Minnesota Security Hospital - St. Peter   56317000  \n",
       "0   Higher Education Asset Preservation (HEAPR) 1   42500000  \n",
       "5   Higher Education Asset Preservation (HEAPR) 2   42500000  "
      ]
     },
     "execution_count": 15,
     "metadata": {},
     "output_type": "execute_result"
    }
   ],
   "source": [
    "budget = pd.read_csv(\"http://pbpython.com/extras/mn-budget-detail-2014.csv\")\n",
    "budget = budget.sort_values('amount',ascending=False)[:10]\n",
    "budget.head()"
   ]
  },
  {
   "cell_type": "markdown",
   "metadata": {},
   "source": [
    "Now, setup our display to use nicer defaults and create a bar plot:"
   ]
  },
  {
   "cell_type": "code",
   "execution_count": 19,
   "metadata": {},
   "outputs": [
    {
     "data": {
      "image/png": "[encoded data removed]",
      "text/plain": [
       "<matplotlib.figure.Figure at 0x1964c9f2668>"
      ]
     },
     "metadata": {},
     "output_type": "display_data"
    }
   ],
   "source": [
    "plt.style = 'default'\n",
    "budget_plot = budget.plot(kind=\"bar\",x=budget[\"detail\"],\n",
    "                          title=\"MN Capital Budget - 2014\",\n",
    "                          legend=False)"
   ]
  },
  {
   "cell_type": "markdown",
   "metadata": {},
   "source": [
    "This does all of the heavy lifting of creating the plot using the “detail” column as well as displaying the title and removing the legend.\n",
    "\n",
    "Here is the additional code needed to save the image as a png."
   ]
  },
  {
   "cell_type": "code",
   "execution_count": 20,
   "metadata": {
    "collapsed": true
   },
   "outputs": [],
   "source": [
    "fig = budget_plot.get_figure()\n",
    "fig.savefig(\"2014-mn-capital-budget.png\")"
   ]
  },
  {
   "cell_type": "markdown",
   "metadata": {},
   "source": [
    "# Seaborn\n",
    "\n",
    "Seaborn is a visualization library based on matplotlib. It seeks to make default data visualizations much more visually appealing. It also has the goal of making more complicated plots simpler to create. It does integrate well with pandas.\n",
    "\n",
    "My example does not allow seaborn to significantly differentiate itself. One thing I like about seaborn is the various built in styles which allows you to quickly change the color palettes to look a little nicer. Otherwise, seaborn does not do a lot for us with this simple chart.\n",
    "\n",
    "Standard imports and read in the data:"
   ]
  },
  {
   "cell_type": "code",
   "execution_count": 21,
   "metadata": {
    "collapsed": true
   },
   "outputs": [],
   "source": [
    "import pandas as pd\n",
    "import seaborn as sns\n",
    "import matplotlib.pyplot as plt\n",
    "\n",
    "budget = pd.read_csv(\"http://pbpython.com/extras/mn-budget-detail-2014.csv\")\n",
    "budget = budget.sort_values('amount',ascending=False)[:10]"
   ]
  },
  {
   "cell_type": "markdown",
   "metadata": {},
   "source": [
    "One thing I found out is that I explicitly had to set the order of the items on the x_axis using order\n",
    "\n",
    "This section of code sets the order, and styles the plot and bar chart colors:"
   ]
  },
  {
   "cell_type": "code",
   "execution_count": 23,
   "metadata": {},
   "outputs": [
    {
     "data": {
      "image/png": "[encoded data removed]",
      "text/plain": [
       "<matplotlib.figure.Figure at 0x1964c6fecc0>"
      ]
     },
     "metadata": {},
     "output_type": "display_data"
    }
   ],
   "source": [
    "sns.set_style(\"darkgrid\")\n",
    "bar_plot = sns.barplot(x=budget[\"detail\"],y=budget[\"amount\"],\n",
    "                        palette=\"muted\",\n",
    "                        order=budget[\"detail\"].tolist())\n",
    "plt.xticks(rotation=90)\n",
    "plt.show()"
   ]
  },
  {
   "cell_type": "markdown",
   "metadata": {},
   "source": [
    "# Pygal\n",
    "\n",
    "Pygal is used for creating svg charts. If the proper dependencies are installed, you can also save a file as a png. The svg files are pretty useful for easily making interactive charts. I also found that it was pretty easy to create unique looking and visually appealing charts with this tool.\n",
    "\n",
    "Do our imports and read in the data:"
   ]
  },
  {
   "cell_type": "code",
   "execution_count": 46,
   "metadata": {},
   "outputs": [],
   "source": [
    "import pandas as pd\n",
    "import pygal\n",
    "from pygal.style import LightStyle\n",
    "\n",
    "budget = pd.read_csv(\"http://pbpython.com/extras/mn-budget-detail-2014.csv\")\n",
    "budget = budget.sort_values('amount',ascending=False)[:10]"
   ]
  },
  {
   "cell_type": "markdown",
   "metadata": {},
   "source": [
    "We need to create the type of chart and do some basic settings"
   ]
  },
  {
   "cell_type": "code",
   "execution_count": 47,
   "metadata": {},
   "outputs": [],
   "source": [
    "bar_chart = pygal.Bar(style=LightStyle, width=800, height=600,\n",
    "                      legend_at_bottom=True, human_readable=True,\n",
    "                      title='MN Capital Budget - 2014')"
   ]
  },
  {
   "cell_type": "markdown",
   "metadata": {},
   "source": [
    "One interesting feature to note is human_readable which does a nice job of formatting the data so that it mostly “just works.”\n",
    "\n",
    "Now we need to add the data to our chart. This is where the integration with pandas is not very tight but I found it straightforward to do for this small data set. Performance might be an issue when there are lots of rows."
   ]
  },
  {
   "cell_type": "code",
   "execution_count": 48,
   "metadata": {
    "collapsed": true
   },
   "outputs": [],
   "source": [
    "for index, row in budget.iterrows():\n",
    "    bar_chart.add(row[\"detail\"], row[\"amount\"])"
   ]
  },
  {
   "cell_type": "markdown",
   "metadata": {},
   "source": [
    "Now render the file as an svg"
   ]
  },
  {
   "cell_type": "code",
   "execution_count": 50,
   "metadata": {},
   "outputs": [],
   "source": [
    "bar_chart.render_to_file('budget.svg')"
   ]
  },
  {
   "cell_type": "markdown",
   "metadata": {},
   "source": [
    "I think the svg presentation is really nice and I like how the resulting graph has a unique, visually pleasing style. I also found it relatively easy to figure out what I could and could not do with the tool. I encourage you to download the svg file and look at it in your browser to see the interactive nature of the graph."
   ]
  },
  {
   "cell_type": "markdown",
   "metadata": {},
   "source": [
    "# Plot.ly\n",
    "\n",
    "Plot.ly is differentiated by being an online tool for doing analytics and visualization. It has a robust API and includes one for python. Browsing the website, you’ll see that there are lots of very rich, interactive graphs. Thanks to the excellent documentation, creating the bar chart was relatively simple.\n",
    "\n",
    "You’ll need to follow the docs to get your API key set up. Once you do, it all seems to work pretty seamlessly. The one caveat is that everything you are doing is posted on the web so make sure you are ok with it. There is an option to keep plots private so you do have control over that aspect.\n",
    "\n",
    "Plotly integrates pretty seamlessly with pandas. I also will give them kudos for being very responsive to an email question I had. I appreciate their timely reply.\n",
    "\n",
    "Setup my imports and read in the data"
   ]
  },
  {
   "cell_type": "code",
   "execution_count": 52,
   "metadata": {},
   "outputs": [],
   "source": [
    "import plotly \n",
    "plotly.tools.set_credentials_file(username='AmberMusing', api_key='RVUFoU1N2gynW39bRlem')"
   ]
  },
  {
   "cell_type": "code",
   "execution_count": 54,
   "metadata": {},
   "outputs": [],
   "source": [
    "import plotly.plotly as py\n",
    "import pandas as pd\n",
    "from plotly.graph_objs import *\n",
    "\n",
    "budget=pd.read_csv(\"http://pbpython.com/extras/mn-budget-detail-2014.csv\")\n",
    "budget.sort_values('amount',ascending=False,inplace=True)\n",
    "budget = budget[:10]"
   ]
  },
  {
   "cell_type": "markdown",
   "metadata": {},
   "source": [
    "Setup the data and chart type and layout information for plotly."
   ]
  },
  {
   "cell_type": "code",
   "execution_count": 56,
   "metadata": {
    "collapsed": true
   },
   "outputs": [],
   "source": [
    "data = Data([\n",
    "    Bar(\n",
    "        x=budget[\"detail\"],\n",
    "        y=budget[\"amount\"]\n",
    "    )\n",
    "])\n",
    "\n",
    "layout = Layout(\n",
    "    title='2014 MN Capital Budget',\n",
    "    font=Font(\n",
    "        family='Raleway, sans-serif'\n",
    "    ),\n",
    "    showlegend=False,\n",
    "    xaxis=XAxis(\n",
    "        tickangle=-45\n",
    "    ),\n",
    "    bargap=0.05\n",
    ")"
   ]
  },
  {
   "cell_type": "markdown",
   "metadata": {},
   "source": [
    "Finally, plot the data. This will open up a browser and take you to your finished plot. I originally didn’t see this but you can save a local copy as well, using py.image.save_as . This is a really cool feature. You get the interactivity of a rich web-based report as well as the ability to save a local copy to for embedding in your documents."
   ]
  },
  {
   "cell_type": "code",
   "execution_count": 57,
   "metadata": {},
   "outputs": [
    {
     "name": "stdout",
     "output_type": "stream",
     "text": [
      "High five! You successfuly sent some data to your account on plotly. View your plot in your browser at https://plot.ly/~AmberMusing/0 or inside your plot.ly account where it is named 'MN Capital Budget - 2014'\n"
     ]
    }
   ],
   "source": [
    "fig = Figure(data=data, layout=layout)\n",
    "plot_url = py.plot(data,filename='MN Capital Budget - 2014')\n",
    "py.image.save_as(fig, 'mn-14-budget.png')"
   ]
  },
  {
   "cell_type": "markdown",
   "metadata": {},
   "source": [
    "# Summary\n",
    "\n",
    "Plotting data in the python ecosystem is a good news/bad news story. The good news is that there are a lot of options. The bad news is that there are a lot of options. Trying to figure out which ones works for you will depend on what you’re trying to accomplish. To some degree, you need to play with the tools to figure out if they will work for you. I don’t see one clear winner or clear loser.\n",
    "\n",
    "Here are a few of my closing thoughts:\n",
    "\n",
    "    Pandas is handy for simple plots but you need to be willing to learn matplotlib to customize.\n",
    "    Seaborn can support some more complex visualization approaches but still requires matplotlib knowledge to tweak. The color schemes are a nice bonus.\n",
    "    ggplot has a lot of promise but is still going through growing pains.\n",
    "    bokeh is a robust tool if you want to set up your own visualization server but may be overkill for the simple scenarios.\n",
    "    pygal stands alone by being able to generate interactive svg graphs and png files. It is not as flexible as the matplotlib based solutions.\n",
    "    Plotly generates the most interactive graphs. You can save them offline and create very rich web-based visualizations.\n",
    "\n",
    "As it stands now, I’ll continue to watch progress on the ggplot landscape and use pygal and plotly where interactivity is needed."
   ]
  },
  {
   "cell_type": "code",
   "execution_count": null,
   "metadata": {
    "collapsed": true
   },
   "outputs": [],
   "source": []
  }
 ],
 "metadata": {
  "kernelspec": {
   "display_name": "Python 3",
   "language": "python",
   "name": "python3"
  },
  "language_info": {
   "codemirror_mode": {
    "name": "ipython",
    "version": 3
   },
   "file_extension": ".py",
   "mimetype": "text/x-python",
   "name": "python",
   "nbconvert_exporter": "python",
   "pygments_lexer": "ipython3",
   "version": "3.6.1"
  }
 },
 "nbformat": 4,
 "nbformat_minor": 2
}
