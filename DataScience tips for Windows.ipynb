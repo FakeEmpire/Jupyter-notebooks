{
 "cells": [
  {
   "cell_type": "code",
   "execution_count": 7,
   "metadata": {
    "scrolled": true
   },
   "outputs": [
    {
     "data": {
      "application/javascript": [
       "IPython.notebook.set_autosave_interval(30000)"
      ]
     },
     "metadata": {},
     "output_type": "display_data"
    },
    {
     "name": "stdout",
     "output_type": "stream",
     "text": [
      "Autosaving every 30 seconds\n"
     ]
    }
   ],
   "source": [
    "%autosave 30\n",
    "import pandas as pd\n",
    "import numpy as np"
   ]
  },
  {
   "cell_type": "markdown",
   "metadata": {},
   "source": [
    "<b\\> Install with !pip install"
   ]
  },
  {
   "cell_type": "code",
   "execution_count": 6,
   "metadata": {},
   "outputs": [
    {
     "name": "stdout",
     "output_type": "stream",
     "text": [
      "Collecting pandas\n",
      "  Downloading pandas-0.20.3-cp27-cp27m-win_amd64.whl (8.3MB)\n",
      "Collecting pytz>=2011k (from pandas)\n",
      "  Downloading pytz-2017.2-py2.py3-none-any.whl (484kB)\n",
      "Requirement already satisfied: python-dateutil in c:\\programdata\\anaconda3\\envs\\python2\\lib\\site-packages (from pandas)\n",
      "Collecting numpy>=1.7.0 (from pandas)\n",
      "  Downloading numpy-1.13.1-cp27-none-win_amd64.whl (7.6MB)\n",
      "Requirement already satisfied: six>=1.5 in c:\\programdata\\anaconda3\\envs\\python2\\lib\\site-packages (from python-dateutil->pandas)\n",
      "Installing collected packages: pytz, numpy, pandas\n",
      "Successfully installed numpy-1.13.1 pandas-0.20.3 pytz-2017.2\n"
     ]
    }
   ],
   "source": [
    "!pip install pandas"
   ]
  },
  {
   "cell_type": "code",
   "execution_count": 10,
   "metadata": {
    "scrolled": true
   },
   "outputs": [
    {
     "name": "stdout",
     "output_type": "stream",
     "text": [
      "this is the count 10\n",
      "this is the count 17\n"
     ]
    }
   ],
   "source": [
    "count =[10,17]\n",
    "\n",
    "for number in count:\n",
    "    print(\"this is the count %d\") % number"
   ]
  },
  {
   "cell_type": "markdown",
   "metadata": {},
   "source": [
    "<b\\> Can use commandline prompts here"
   ]
  },
  {
   "cell_type": "code",
   "execution_count": 27,
   "metadata": {},
   "outputs": [
    {
     "name": "stderr",
     "output_type": "stream",
     "text": [
      "A subdirectory or file Testy already exists.\n"
     ]
    }
   ],
   "source": [
    "mkdir Testy"
   ]
  },
  {
   "cell_type": "markdown",
   "metadata": {},
   "source": [
    "<b\\> Can import saved modules"
   ]
  },
  {
   "cell_type": "code",
   "execution_count": 15,
   "metadata": {},
   "outputs": [
    {
     "ename": "IndentationError",
     "evalue": "expected an indented block (ex.py, line 127)",
     "output_type": "error",
     "traceback": [
      "\u001b[1;36m  File \u001b[1;32m\"ex.py\"\u001b[1;36m, line \u001b[1;32m127\u001b[0m\n\u001b[1;33m    2 \"\"\"This function will break up words for us.\"\"\"\u001b[0m\n\u001b[1;37m    ^\u001b[0m\n\u001b[1;31mIndentationError\u001b[0m\u001b[1;31m:\u001b[0m expected an indented block\n"
     ]
    }
   ],
   "source": [
    "import ex.py"
   ]
  },
  {
   "cell_type": "code",
   "execution_count": 29,
   "metadata": {
    "collapsed": true
   },
   "outputs": [],
   "source": [
    "mkdir tests"
   ]
  },
  {
   "cell_type": "code",
   "execution_count": 34,
   "metadata": {},
   "outputs": [
    {
     "name": "stdout",
     "output_type": "stream",
     "text": [
      "C:\\Users\\Administrator\\tests\n"
     ]
    }
   ],
   "source": [
    "cd tests"
   ]
  },
  {
   "cell_type": "code",
   "execution_count": 35,
   "metadata": {},
   "outputs": [
    {
     "data": {
      "text/plain": [
       "u'C:\\\\Users\\\\Administrator\\\\tests'"
      ]
     },
     "execution_count": 35,
     "metadata": {},
     "output_type": "execute_result"
    }
   ],
   "source": [
    "pwd"
   ]
  },
  {
   "cell_type": "code",
   "execution_count": 36,
   "metadata": {},
   "outputs": [
    {
     "name": "stdout",
     "output_type": "stream",
     "text": [
      "C:\\Users\\Administrator\n"
     ]
    }
   ],
   "source": [
    "cd ~"
   ]
  },
  {
   "cell_type": "code",
   "execution_count": 37,
   "metadata": {},
   "outputs": [
    {
     "name": "stdout",
     "output_type": "stream",
     "text": [
      " Volume in drive C is Windows\n",
      " Volume Serial Number is 96B4-F9E7\n",
      "\n",
      " Directory of C:\\Users\\Administrator\n",
      "\n",
      "09/09/2017  12:31    <DIR>          .\n",
      "09/09/2017  12:31    <DIR>          ..\n",
      "29/07/2017  05:52    <DIR>          .anaconda\n",
      "09/09/2017  12:31    <DIR>          .conda\n",
      "09/09/2017  10:47                43 .condarc\n",
      "09/09/2017  10:54    <DIR>          .ipynb_checkpoints\n",
      "29/07/2017  06:05    <DIR>          .ipython\n",
      "31/07/2017  04:10    <DIR>          .jupyter\n",
      "09/09/2017  10:48    <DIR>          .matplotlib\n",
      "05/08/2017  08:56    <DIR>          .plotly\n",
      "05/08/2017  08:29             9,369 2014-mn-capital-budget.png\n",
      "05/08/2017  22:00           512,883 Altair example.ipynb\n",
      "05/08/2017  21:50            27,951 altair.PNG\n",
      "05/08/2017  23:17           126,268 Amortization Model.ipynb\n",
      "09/09/2017  10:52    <DIR>          AnacondaProjects\n",
      "06/08/2017  18:32            48,296 Association Analysis.ipynb\n",
      "07/08/2017  23:09           103,359 Association Analysis-SPSS.ipynb\n",
      "05/08/2017  19:47            22,715 avg.PNG\n",
      "06/08/2017  18:06            51,092 basket.PNG\n",
      "05/08/2017  08:50            24,110 budget.svg\n",
      "06/08/2017  10:18            65,694 Categorical variables.ipynb\n",
      "04/08/2017  10:01    <DIR>          Contacts\n",
      "31/07/2017  05:39             5,215 customer-status.xlsx\n",
      "09/09/2017  12:31             4,879 DataScience tips for Windows.ipynb\n",
      "09/09/2017  09:44    <DIR>          Desktop\n",
      "05/08/2017  22:24             9,555 DF from dicts and lists.ipynb\n",
      "05/08/2017  07:56    <DIR>          Documents\n",
      "09/09/2017  09:49    <DIR>          Downloads\n",
      "09/09/2017  10:37             4,233 ex.py\n",
      "31/07/2017  04:18            11,658 excel-comp-data.xlsx\n",
      "05/08/2017  09:06             6,245 excel-comp-datav2.xlsx\n",
      "05/08/2017  09:11             6,836 Excelling again.ipynb\n",
      "05/08/2017  16:40           264,584 Excelling.ipynb\n",
      "05/08/2017  09:08             7,663 fancy.xlsx\n",
      "04/08/2017  10:01    <DIR>          Favorites\n",
      "05/08/2017  21:03            16,900 Filter like Excel.ipynb\n",
      "05/08/2017  09:06            90,390 Graphing.ipynb\n",
      "06/08/2017  19:26            23,559 Grouper and Agg.ipynb\n",
      "05/08/2017  17:02           193,809 House.csv\n",
      "05/08/2017  17:07           206,029 House.xlsx\n",
      "09/09/2017  12:28    <DIR>          Ice\n",
      "08/09/2017  08:35    <DIR>          Links\n",
      "05/08/2017  22:22            72,755 listdict.PNG\n",
      "09/09/2017  12:08           550,938 London Marathon Master.ipynb\n",
      "08/09/2017  13:14           365,780 London Marathon.ipynb\n",
      "08/09/2017  16:13         1,051,461 LonF2010.csv\n",
      "08/09/2017  13:05         1,196,294 LonF2011.csv\n",
      "08/09/2017  13:05         1,277,567 LonF2012.csv\n",
      "08/09/2017  13:05         1,199,582 LonF2013.csv\n",
      "08/09/2017  13:05         1,294,269 LonF2014.csv\n",
      "08/09/2017  13:05         1,445,020 LonF2015.csv\n",
      "08/09/2017  13:05         1,501,897 LonF2016.csv\n",
      "08/09/2017  15:23         1,372,871 LonF2017.csv\n",
      "08/09/2017  14:51         2,035,494 LonM2010.csv\n",
      "08/09/2017  13:05         2,107,966 LonM2011.csv\n",
      "08/09/2017  13:05         2,223,198 LonM2012.csv\n",
      "08/09/2017  13:05         2,055,004 LonM2013.csv\n",
      "08/09/2017  13:05         2,104,877 LonM2014.csv\n",
      "08/09/2017  13:05         2,247,914 LonM2015.csv\n",
      "08/09/2017  13:05         2,308,016 LonM2016.csv\n",
      "08/09/2017  14:10         2,059,368 LonM2017.csv\n",
      "08/09/2017  16:05             3,302 Marathon.ipynb\n",
      "08/09/2017  13:19             8,429 Marathon-Copy2.ipynb\n",
      "06/08/2017  22:10           132,396 Matplotlib.ipynb\n",
      "05/08/2017  09:00            31,693 mn-14-budget.png\n",
      "04/08/2017  10:01    <DIR>          Music\n",
      "29/07/2017  06:15             8,543 my-diff-2.xlsx\n",
      "05/08/2017  17:11             7,841 Normalising Data.ipynb\n",
      "08/09/2017  08:35    <DIR>          OneDrive\n",
      "05/08/2017  21:05             3,663 osm.html\n",
      "04/08/2017  10:01    <DIR>          Pictures\n",
      "05/08/2017  19:44             6,513 price.PNG\n",
      "06/08/2017  22:06             2,338 PythonStuff-794a005dcf7a.json\n",
      "06/08/2017  21:50            30,308 sales.png\n",
      "06/08/2017  10:31            10,265 sales_transactions.xlsx\n",
      "31/07/2017  05:39            10,565 sales-feb-2014.xlsx\n",
      "31/07/2017  06:13             9,550 sales-funnel.xlsx\n",
      "31/07/2017  05:39            11,765 sales-jan-2014.xlsx\n",
      "31/07/2017  05:39            12,059 sales-mar-2014.xlsx\n",
      "29/07/2017  06:12            10,567 sample-address-new.xlsx\n",
      "29/07/2017  06:12            10,423 sample-address-old.xlsx\n",
      "31/07/2017  05:08            73,001 sample-salesv3.xlsx\n",
      "04/08/2017  10:01    <DIR>          Saved Games\n",
      "04/08/2017  10:01    <DIR>          Searches\n",
      "05/08/2017  19:42            22,861 shoe.PNG\n",
      "05/08/2017  09:08             7,174 simple.xlsx\n",
      "07/08/2017  21:19             1,190 SPSS import.ipynb\n",
      "07/08/2017  22:14        74,688,003 spss.csv\n",
      "07/08/2017  20:53        31,368,688 spss.sav\n",
      "07/08/2017  22:14        93,732,842 spss.xlsx\n",
      "09/09/2017  12:25    <DIR>          tests\n",
      "09/09/2017  12:24    <DIR>          Testy\n",
      "06/08/2017  17:59            11,455 Transform function.ipynb\n",
      "07/08/2017  21:03             2,966 Untitled.ipynb\n",
      "07/08/2017  22:26             1,265 Untitled1.ipynb\n",
      "04/08/2017  10:01    <DIR>          Videos\n",
      "05/08/2017  20:14            17,806 Weighted Average.ipynb\n",
      "              72 File(s)    230,551,077 bytes\n",
      "              25 Dir(s)  28,179,021,824 bytes free\n"
     ]
    }
   ],
   "source": [
    "ls"
   ]
  },
  {
   "cell_type": "code",
   "execution_count": 39,
   "metadata": {
    "scrolled": true
   },
   "outputs": [
    {
     "name": "stdout",
     "output_type": "stream",
     "text": [
      "[Error 2] The system cannot find the file specified: u'Temp'\n",
      "C:\\Users\\Administrator\n"
     ]
    }
   ],
   "source": [
    "cd Temp"
   ]
  },
  {
   "cell_type": "markdown",
   "metadata": {},
   "source": [
    "<b\\> Remove a directory by going to the directory above it and then:"
   ]
  },
  {
   "cell_type": "code",
   "execution_count": 40,
   "metadata": {
    "collapsed": true
   },
   "outputs": [],
   "source": [
    "rmdir Testy"
   ]
  },
  {
   "cell_type": "code",
   "execution_count": 42,
   "metadata": {},
   "outputs": [],
   "source": [
    "mkdir temp"
   ]
  },
  {
   "cell_type": "code",
   "execution_count": 43,
   "metadata": {},
   "outputs": [
    {
     "name": "stdout",
     "output_type": "stream",
     "text": [
      "C:\\Users\\Administrator\\temp\n"
     ]
    }
   ],
   "source": [
    "cd temp"
   ]
  },
  {
   "cell_type": "code",
   "execution_count": 45,
   "metadata": {},
   "outputs": [],
   "source": [
    "mkdir i\\like\\icecream"
   ]
  },
  {
   "cell_type": "code",
   "execution_count": 46,
   "metadata": {},
   "outputs": [
    {
     "name": "stdout",
     "output_type": "stream",
     "text": [
      "C:\\Users\\Administrator\\temp\\i\\like\\icecream\n"
     ]
    },
    {
     "data": {
      "text/plain": [
       "[u'~\\\\temp']"
      ]
     },
     "execution_count": 46,
     "metadata": {},
     "output_type": "execute_result"
    }
   ],
   "source": [
    "pushd i\\like\\icecream"
   ]
  },
  {
   "cell_type": "code",
   "execution_count": 48,
   "metadata": {},
   "outputs": [
    {
     "name": "stdout",
     "output_type": "stream",
     "text": [
      "C:\\Users\\Administrator\\temp\n",
      "popd -> ~\\temp\n"
     ]
    }
   ],
   "source": [
    "popd"
   ]
  },
  {
   "cell_type": "code",
   "execution_count": 49,
   "metadata": {},
   "outputs": [
    {
     "data": {
      "text/plain": [
       "u'C:\\\\Users\\\\Administrator\\\\temp'"
      ]
     },
     "execution_count": 49,
     "metadata": {},
     "output_type": "execute_result"
    }
   ],
   "source": [
    "pwd"
   ]
  },
  {
   "cell_type": "markdown",
   "metadata": {},
   "source": [
    "The pushd command takes your current directory and \"pushes\" it into a list for later, then it changes to another directory. It's like saying, \"Save where I am, then go here.\"\n",
    "\n",
    "The popd command takes the last directory you pushed and \"pops\" it off, taking you back there."
   ]
  },
  {
   "cell_type": "markdown",
   "metadata": {},
   "source": [
    "You already know this, but remember that mkdir -p (on Linux/OSX) will make an entire path even if all the directories don't exist. That's what I did very first for this exercise.\n",
    "Remember that Windows will make a full path and does not need the -p."
   ]
  },
  {
   "cell_type": "markdown",
   "metadata": {},
   "source": [
    "<b\\> This doesn't work here but does in Powershell - this is where mac uses touch"
   ]
  },
  {
   "cell_type": "code",
   "execution_count": 52,
   "metadata": {
    "scrolled": true
   },
   "outputs": [
    {
     "ename": "NameError",
     "evalue": "name 'New' is not defined",
     "output_type": "error",
     "traceback": [
      "\u001b[1;31m\u001b[0m",
      "\u001b[1;31mNameError\u001b[0mTraceback (most recent call last)",
      "\u001b[1;32m<ipython-input-52-e8771c966224>\u001b[0m in \u001b[0;36m<module>\u001b[1;34m()\u001b[0m\n\u001b[1;32m----> 1\u001b[1;33m \u001b[0mNew\u001b[0m\u001b[1;33m-\u001b[0m\u001b[0mItem\u001b[0m\u001b[1;33m\u001b[0m\u001b[0m\n\u001b[0m",
      "\u001b[1;31mNameError\u001b[0m: name 'New' is not defined"
     ]
    }
   ],
   "source": [
    "New-Item iamcool.txt -type file"
   ]
  },
  {
   "cell_type": "markdown",
   "metadata": {},
   "source": [
    "<b\\> This copies a file where it is"
   ]
  },
  {
   "cell_type": "code",
   "execution_count": null,
   "metadata": {
    "collapsed": true
   },
   "outputs": [],
   "source": [
    "cp iamcool.txt neat.txt"
   ]
  },
  {
   "cell_type": "markdown",
   "metadata": {},
   "source": [
    "<b\\> This copies a file to somewhere"
   ]
  },
  {
   "cell_type": "code",
   "execution_count": null,
   "metadata": {
    "collapsed": true
   },
   "outputs": [],
   "source": [
    "cp awesome.txt something/"
   ]
  },
  {
   "cell_type": "markdown",
   "metadata": {},
   "source": [
    "<b\\> If you are one directory above something and want to list what is in it"
   ]
  },
  {
   "cell_type": "code",
   "execution_count": null,
   "metadata": {
    "collapsed": true
   },
   "outputs": [],
   "source": [
    "ls something/"
   ]
  },
  {
   "cell_type": "markdown",
   "metadata": {},
   "source": [
    "<b\\> If you want to copy a file and its contents -recurse is -r in mac"
   ]
  },
  {
   "cell_type": "code",
   "execution_count": null,
   "metadata": {
    "collapsed": true
   },
   "outputs": [],
   "source": [
    "cp -recurse something newplace"
   ]
  },
  {
   "cell_type": "markdown",
   "metadata": {},
   "source": [
    "<b\\> mv basically renames a file, it might move too "
   ]
  },
  {
   "cell_type": "code",
   "execution_count": null,
   "metadata": {
    "collapsed": true
   },
   "outputs": [],
   "source": [
    "mv awesome.txt uncool.txt"
   ]
  },
  {
   "cell_type": "markdown",
   "metadata": {},
   "source": [
    "<b\\> To print the contents of a file use more - mac uses less, it just shows a page at a time"
   ]
  },
  {
   "cell_type": "code",
   "execution_count": null,
   "metadata": {
    "collapsed": true
   },
   "outputs": [],
   "source": [
    "more test.txt"
   ]
  },
  {
   "cell_type": "markdown",
   "metadata": {},
   "source": [
    "<b\\> Use cat to show the whole thing"
   ]
  },
  {
   "cell_type": "code",
   "execution_count": null,
   "metadata": {
    "collapsed": true
   },
   "outputs": [],
   "source": [
    "cat test.txt"
   ]
  },
  {
   "cell_type": "markdown",
   "metadata": {},
   "source": [
    "<b\\> To remove a file or folder use rm"
   ]
  },
  {
   "cell_type": "code",
   "execution_count": null,
   "metadata": {
    "collapsed": true
   },
   "outputs": [],
   "source": [
    "rm uncool.txt"
   ]
  },
  {
   "cell_type": "markdown",
   "metadata": {},
   "source": [
    "<b\\> To exit"
   ]
  },
  {
   "cell_type": "code",
   "execution_count": null,
   "metadata": {
    "collapsed": true
   },
   "outputs": [],
   "source": [
    "exit"
   ]
  }
 ],
 "metadata": {
  "kernelspec": {
   "display_name": "Python 2",
   "language": "python",
   "name": "python2"
  },
  "language_info": {
   "codemirror_mode": {
    "name": "ipython",
    "version": 2
   },
   "file_extension": ".py",
   "mimetype": "text/x-python",
   "name": "python",
   "nbconvert_exporter": "python",
   "pygments_lexer": "ipython2",
   "version": "2.7.13"
  }
 },
 "nbformat": 4,
 "nbformat_minor": 2
}
